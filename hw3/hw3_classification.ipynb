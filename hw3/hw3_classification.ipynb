{
 "cells": [
  {
   "cell_type": "markdown",
   "id": "ddcce680",
   "metadata": {
    "deletable": false,
    "editable": false,
    "nbgrader": {
     "cell_type": "markdown",
     "checksum": "e6cb8f042ebb7b7bbab256434910ef60",
     "grade": false,
     "grade_id": "cell-b1217afff8bc58c2",
     "locked": true,
     "schema_version": 3,
     "solution": false,
     "task": false
    }
   },
   "source": [
    "## Homework 3: Machine learning\n",
    "\n",
    "In this assignment, we'll practice the classification skills from machine learning. We'll use the precinct-level voting data to predict support for Prop 21 (rent control) on the 2020 ballot. For example, we might expect the share of renters to be an important predictor.\n",
    "\n",
    "We'll also review joins as we prepare the data.\n",
    "\n",
    "Start by loading the 2020 elections results from LA County into a `pandas` dataframe, `voteDf`. (This is exactly the same data as we will use next week in the clustering lectures; I put another copy of the data file in the assignment GitHub folder to make things easier.)\n",
    "\n",
    "### Policy on ChatGPT / AI\n",
    "\n",
    "This is the same as in HWs 1 and 2. Please review those guidelines."
   ]
  },
  {
   "cell_type": "markdown",
   "id": "58ce9f07",
   "metadata": {
    "deletable": false,
    "editable": false,
    "nbgrader": {
     "cell_type": "markdown",
     "checksum": "43e87542bbd93eba65b63d1df946b8b1",
     "grade": false,
     "grade_id": "cell-c4f721042cd05425",
     "locked": true,
     "schema_version": 3,
     "solution": false,
     "task": false
    }
   },
   "source": [
    "Please help me grade by observing the following:\n",
    " \n",
    "* Do not rename this notebook (that messes up the autograder)\n",
    "* Do not include large sections of output (that makes it hard to find your code). For example, use `df.head()` to show the first few rows, rather than printing an entire dataframe. The same goes for printing long strings."
   ]
  },
  {
   "cell_type": "code",
   "execution_count": 1,
   "id": "293c8170-67aa-4b92-9a84-ffa0b3d5880f",
   "metadata": {},
   "outputs": [
    {
     "data": {
      "text/plain": [
       "'/Users/Tomo/Desktop/urbandatascience/hw3-tomo-ujikawa/hw3'"
      ]
     },
     "execution_count": 1,
     "metadata": {},
     "output_type": "execute_result"
    }
   ],
   "source": [
    "import os\n",
    "os.getcwd()"
   ]
  },
  {
   "cell_type": "code",
   "execution_count": 2,
   "id": "9f4f8fa1",
   "metadata": {
    "deletable": false,
    "nbgrader": {
     "cell_type": "code",
     "checksum": "30347d5ed1e8164b2c06eb48609ba2cc",
     "grade": false,
     "grade_id": "cell-2ff091f01ca8b647",
     "locked": false,
     "schema_version": 3,
     "solution": true,
     "task": false
    }
   },
   "outputs": [
    {
     "name": "stdout",
     "output_type": "stream",
     "text": [
      "4313\n",
      "   county    srprec  addist  cddist  sddist  bedist  TOTREG  DEMREG  REPREG  \\\n",
      "0      19  0050005A      36      25      21       1    1974       0       0   \n",
      "1      19  0050014A      36      25      21       1     697       0       0   \n",
      "2      19  0050022A      36      27      25       1      61       0       0   \n",
      "3      19  0050024A      41      27      25       1       0       0       0   \n",
      "4      19  0050025A      36      25      25       1       5       0       0   \n",
      "\n",
      "   AIPREG  ...  PR_23_Y  PR_24_N  PR_24_Y  PR_25_N  PR_25_Y  SENAIP01  \\\n",
      "0       0  ...      430      945      771     1304      398         0   \n",
      "1       0  ...      100      314      223      427      116         0   \n",
      "2       0  ...       10       27       22       35       15         0   \n",
      "3       0  ...        0        0        0        0        0         0   \n",
      "4       0  ...        1        2        3        1        3         0   \n",
      "\n",
      "   SENDEM01  SENDEM02  SENLIB01  SENREP01  \n",
      "0       524         0         0      1197  \n",
      "1       163         0         0       373  \n",
      "2        20         0         0        33  \n",
      "3         0         0         0         0  \n",
      "4         2         0         0         3  \n",
      "\n",
      "[5 rows x 73 columns]\n"
     ]
    }
   ],
   "source": [
    "import pandas as pd\n",
    "\n",
    "voteDf = pd.read_csv('c037_g20_sov_data_by_g20_srprec.csv')\n",
    "\n",
    "print(len(voteDf))\n",
    "print(voteDf.head())"
   ]
  },
  {
   "cell_type": "code",
   "execution_count": 3,
   "id": "d55c4df1",
   "metadata": {
    "deletable": false,
    "editable": false,
    "nbgrader": {
     "cell_type": "code",
     "checksum": "0cb332b1f272ab5349b67d3bf2b76c41",
     "grade": true,
     "grade_id": "cell-82c4c318b68ac93b",
     "locked": true,
     "points": 1,
     "schema_version": 3,
     "solution": false,
     "task": false
    }
   },
   "outputs": [],
   "source": [
    "# Autograding tests - do not edit\n",
    "assert len(voteDf) == 4313\n",
    "assert isinstance(voteDf, pd.DataFrame)"
   ]
  },
  {
   "cell_type": "markdown",
   "id": "4c4ff214",
   "metadata": {
    "deletable": false,
    "editable": false,
    "nbgrader": {
     "cell_type": "markdown",
     "checksum": "7f70f7dbb484fc1f79771108c7bc0002",
     "grade": false,
     "grade_id": "cell-8e73935274cd6bac",
     "locked": true,
     "schema_version": 3,
     "solution": false,
     "task": false
    }
   },
   "source": [
    "To do some prediction, we'll want to add variables from (say) the census or other sources.\n",
    "For that, we need the lookup file that matches precincts to census blocks and tracts. [You can find it here](https://statewidedatabase.org/d10/g20_geo_conv.html), or just use the file `c037_g20_sr_blk_map.csv` in your GitHub repository. (Note that there are several types of precincts; the ones that we are using here are called `srprec`.) \n",
    "\n",
    "Each precinct intersects with many census blocks. The `pctsrprec` column tells you how much of the precinct lies within that block. For example, in the first few rows of `c037_g20_sr_blk_map.csv`, you'll see 49 different rows for precinct `0050003A`, each matching to a different census block, with the `pctsrprec` column adding up to 100.\n",
    "\n",
    "Our aim is to create a new dataframe with the vote counts (for all of the propositions and other races) aggregated to census tract. This is a multi-stage process, so let's do this step by step.\n",
    "\n",
    "In this step, you should:\n",
    "- load in the lookup data into a new dataframe, `lookupDf`\n",
    "- join the voting dataframe to the lookup dataframe using `srprec`, to create a new dataframe called `joinDf`. This is a 1:many join, since there are many census blocks per precinct. Do an inner join, as the Null values are not going to be useful to us. (In other words, throw away any lookups that don't match a precinct.)\n",
    "- make sure that `srprec` is the index"
   ]
  },
  {
   "cell_type": "code",
   "execution_count": 4,
   "id": "82282498",
   "metadata": {
    "deletable": false,
    "nbgrader": {
     "cell_type": "code",
     "checksum": "175587793ace31f97af20b41f50d9ae4",
     "grade": false,
     "grade_id": "cell-c7ed8bd92abd47eh",
     "locked": false,
     "schema_version": 3,
     "solution": true,
     "task": false
    }
   },
   "outputs": [],
   "source": [
    "lookupDf = pd.read_csv('c037_g20_sr_blk_map.csv') \n",
    "voteDf.set_index('srprec', inplace=True)\n",
    "lookupDf.set_index('srprec', inplace=True)\n",
    "joinDf = voteDf.join(lookupDf, how = 'inner')"
   ]
  },
  {
   "cell_type": "code",
   "execution_count": 5,
   "id": "2a3f2f2f",
   "metadata": {
    "deletable": false,
    "editable": false,
    "nbgrader": {
     "cell_type": "code",
     "checksum": "147f4a825287b7695a6d4d319621502d",
     "grade": true,
     "grade_id": "cell-286dda81152bd482",
     "locked": true,
     "points": 1,
     "schema_version": 3,
     "solution": false,
     "task": false
    }
   },
   "outputs": [
    {
     "name": "stdout",
     "output_type": "stream",
     "text": [
      "77704\n",
      "77703\n",
      "77703\n",
      "168427815\n"
     ]
    }
   ],
   "source": [
    "print(len(lookupDf))\n",
    "print(len(joinDf))\n",
    "print(joinDf.county.count())\n",
    "print(joinDf.TOTREG.sum())\n",
    "assert joinDf.index.name=='srprec'\n",
    "assert len(lookupDf)==77704\n",
    "assert len(joinDf)==77703\n",
    "assert joinDf.county.count()==77703\n",
    "assert joinDf.TOTREG.sum()==168427815"
   ]
  },
  {
   "cell_type": "markdown",
   "id": "6befe423",
   "metadata": {
    "deletable": false,
    "editable": false,
    "nbgrader": {
     "cell_type": "markdown",
     "checksum": "117929222e3f611a729351cee5825c39",
     "grade": false,
     "grade_id": "cell-7bcea0e4d8ff0da9",
     "locked": true,
     "schema_version": 3,
     "solution": false,
     "task": false
    }
   },
   "source": [
    "Now let's calculate vote shares on Prop 21 and in the presidential race for each census tract. \n",
    "\n",
    "This is slightly tricky, because your data frame `joinDf` will have multiple rows per tract (because the precinct geography does not match the census geography). For example, the following code shows you which precincts intersect with tract 119342. \n",
    "\n",
    "13.65% of the first precinct listed, `9004204A`, is in tract 119342."
   ]
  },
  {
   "cell_type": "code",
   "execution_count": 6,
   "id": "15750cae",
   "metadata": {
    "deletable": false,
    "editable": false,
    "nbgrader": {
     "cell_type": "code",
     "checksum": "b06c7452a13ccb2821cff6520a639b38",
     "grade": false,
     "grade_id": "cell-64a15291025f017a",
     "locked": true,
     "schema_version": 3,
     "solution": false,
     "task": false
    }
   },
   "outputs": [
    {
     "data": {
      "text/html": [
       "<div>\n",
       "<style scoped>\n",
       "    .dataframe tbody tr th:only-of-type {\n",
       "        vertical-align: middle;\n",
       "    }\n",
       "\n",
       "    .dataframe tbody tr th {\n",
       "        vertical-align: top;\n",
       "    }\n",
       "\n",
       "    .dataframe thead th {\n",
       "        text-align: right;\n",
       "    }\n",
       "</style>\n",
       "<table border=\"1\" class=\"dataframe\">\n",
       "  <thead>\n",
       "    <tr style=\"text-align: right;\">\n",
       "      <th></th>\n",
       "      <th>tract</th>\n",
       "      <th>pctsrprec</th>\n",
       "    </tr>\n",
       "    <tr>\n",
       "      <th>srprec</th>\n",
       "      <th></th>\n",
       "      <th></th>\n",
       "    </tr>\n",
       "  </thead>\n",
       "  <tbody>\n",
       "    <tr>\n",
       "      <th>9004204A</th>\n",
       "      <td>119342</td>\n",
       "      <td>13.653137</td>\n",
       "    </tr>\n",
       "    <tr>\n",
       "      <th>9000576A</th>\n",
       "      <td>119342</td>\n",
       "      <td>22.065955</td>\n",
       "    </tr>\n",
       "    <tr>\n",
       "      <th>9000576A</th>\n",
       "      <td>119342</td>\n",
       "      <td>25.412221</td>\n",
       "    </tr>\n",
       "    <tr>\n",
       "      <th>9000576A</th>\n",
       "      <td>119342</td>\n",
       "      <td>0.533463</td>\n",
       "    </tr>\n",
       "  </tbody>\n",
       "</table>\n",
       "</div>"
      ],
      "text/plain": [
       "           tract  pctsrprec\n",
       "srprec                     \n",
       "9004204A  119342  13.653137\n",
       "9000576A  119342  22.065955\n",
       "9000576A  119342  25.412221\n",
       "9000576A  119342   0.533463"
      ]
     },
     "execution_count": 6,
     "metadata": {},
     "output_type": "execute_result"
    }
   ],
   "source": [
    "joinDf[joinDf.tract==119342][['tract','pctsrprec']].sort_index(ascending=False)"
   ]
  },
  {
   "cell_type": "markdown",
   "id": "a7067641",
   "metadata": {
    "deletable": false,
    "editable": false,
    "nbgrader": {
     "cell_type": "markdown",
     "checksum": "6ed88626d5f19d730a72451bb6d4b0fd",
     "grade": false,
     "grade_id": "cell-929fd94be63a3489",
     "locked": true,
     "schema_version": 3,
     "solution": false,
     "task": false
    }
   },
   "source": [
    "So to aggregate to tracts, you should:\n",
    "- for each relevant column, multiply the number of votes by `pctsrprec`, and divide by 100 (because `pctsrprec` is a percentage, not a fraction)\n",
    "- group by census tract and sum those relevant columns, to create a new dataframe called `tractVotes`. It should have columns `PR_21_N`, `PR_21_Y`, `PRSDEM01`, `PRSREP01`, etc.\n",
    "\n",
    "This will give us our estimate of votes at the tract level.\n",
    "\n",
    "*Hint*: You can pass multiple columns to `groupby`. E.g. `df.groupby('groupcol')[['col1','col2','col3']].sum()`"
   ]
  },
  {
   "cell_type": "code",
   "execution_count": 7,
   "id": "1dcaa052-3a0d-4cce-bdd7-3546e319a8f9",
   "metadata": {},
   "outputs": [
    {
     "data": {
      "text/plain": [
       "Index(['county', 'addist', 'cddist', 'sddist', 'bedist', 'TOTREG', 'DEMREG',\n",
       "       'REPREG', 'AIPREG', 'GRNREG', 'LIBREG', 'NLPREG', 'REFREG', 'DCLREG',\n",
       "       'MSCREG', 'TOTVOTE', 'DEMVOTE', 'REPVOTE', 'AIPVOTE', 'GRNVOTE',\n",
       "       'LIBVOTE', 'NLPVOTE', 'REFVOTE', 'DCLVOTE', 'MSCVOTE', 'PRCVOTE',\n",
       "       'ABSVOTE', 'ASSDEM01', 'ASSDEM02', 'ASSGRN01', 'ASSIND01', 'ASSLIB01',\n",
       "       'ASSREP01', 'ASSREP02', 'CNGDEM01', 'CNGDEM02', 'CNGREP01', 'PRSAIP01',\n",
       "       'PRSDEM01', 'PRSGRN01', 'PRSLIB01', 'PRSPAF01', 'PRSREP01', 'PR_14_N',\n",
       "       'PR_14_Y', 'PR_15_N', 'PR_15_Y', 'PR_16_N', 'PR_16_Y', 'PR_17_N',\n",
       "       'PR_17_Y', 'PR_18_N', 'PR_18_Y', 'PR_19_N', 'PR_19_Y', 'PR_20_N',\n",
       "       'PR_20_Y', 'PR_21_N', 'PR_21_Y', 'PR_22_N', 'PR_22_Y', 'PR_23_N',\n",
       "       'PR_23_Y', 'PR_24_N', 'PR_24_Y', 'PR_25_N', 'PR_25_Y', 'SENAIP01',\n",
       "       'SENDEM01', 'SENDEM02', 'SENLIB01', 'SENREP01', 'tract', 'block',\n",
       "       'blkreg', 'srtotreg', 'pctsrprec', 'blktotreg', 'pctblk'],\n",
       "      dtype='object')"
      ]
     },
     "execution_count": 7,
     "metadata": {},
     "output_type": "execute_result"
    }
   ],
   "source": [
    "joinDf.columns"
   ]
  },
  {
   "cell_type": "code",
   "execution_count": 8,
   "id": "1190785b-c91d-4bf0-9a81-f48a5fa1f79e",
   "metadata": {},
   "outputs": [],
   "source": [
    "cols = ['PR_21_N','PR_21_Y','PRSDEM01', 'PRSREP01']\n",
    "for col in cols:\n",
    "    joinDf[col] = joinDf[col] * joinDf['pctsrprec'] / 100"
   ]
  },
  {
   "cell_type": "code",
   "execution_count": 9,
   "id": "f3d77819",
   "metadata": {
    "deletable": false,
    "nbgrader": {
     "cell_type": "code",
     "checksum": "bf5ab9300c3d2259add243d0bbe32ab5",
     "grade": false,
     "grade_id": "cell-863ef266d322296a",
     "locked": false,
     "schema_version": 3,
     "solution": true,
     "task": false
    }
   },
   "outputs": [],
   "source": [
    "tractVotes = joinDf.groupby('tract')[cols].sum()"
   ]
  },
  {
   "cell_type": "code",
   "execution_count": 10,
   "id": "6a8c0926",
   "metadata": {
    "deletable": false,
    "editable": false,
    "nbgrader": {
     "cell_type": "code",
     "checksum": "c2879397fb6221fd24945a2607e48277",
     "grade": true,
     "grade_id": "cell-d616b48580427e62",
     "locked": true,
     "points": 1,
     "schema_version": 3,
     "solution": false,
     "task": false
    }
   },
   "outputs": [
    {
     "name": "stdout",
     "output_type": "stream",
     "text": [
      "2338\n",
      "2021486.9997128805\n"
     ]
    }
   ],
   "source": [
    "print(len(tractVotes))\n",
    "print(tractVotes.PR_21_Y.sum())\n",
    "\n",
    "# Autograding tests - do not edit\n",
    "assert len(tractVotes)==2338\n",
    "assert tractVotes.PR_21_Y.sum().round() == 2021487"
   ]
  },
  {
   "cell_type": "markdown",
   "id": "69cbec5b",
   "metadata": {
    "deletable": false,
    "editable": false,
    "nbgrader": {
     "cell_type": "markdown",
     "checksum": "bac4104c9191b477355b658354b517b3",
     "grade": false,
     "grade_id": "cell-5d1fa0f9a1e656b7",
     "locked": true,
     "schema_version": 3,
     "solution": false,
     "task": false
    }
   },
   "source": [
    "Now let's get a dataframe of some relevant census variables, using the Census Bureau API. Check back to the Week 1 example and the first homework.\n",
    "\n",
    "Create a dataframe, `censusDf`, with ACS 2019 (5 year) tract-level data for LA County, and variables for Tenure (B25003_001E, B25003_002E, B25003_003E) and median household income (B19013_001E). Add a column with the percent of renters, called `pct_renter`.\n",
    "\n",
    "Rename the median HH income column `median_hh_income`, which is more meaningful.\n",
    "\n",
    "Why use ACS 2019 rather than a more recent vintage? Well, the census tract boundaries change after each decennial census (i.e., in 2020), and the precinct-to-tract files we used above map to the pre-2020 census boundaries.\n",
    "\n",
    "As a reminder, here's the Census API [list of tables](https://api.census.gov/data/2019/acs/acs5/variables.html), and [here are examples that you can adapt](https://api.census.gov/data/2019/acs/acs5/examples.html). \n",
    "\n",
    "*Hint:* Make sure to restrict your data request by state AND county if you want to keep it to a manageable size! You shouldn't need to request an API key for a small number of queries..\n",
    "\n",
    "*Hint:* Look at your data if you get the wrong answer to median income! For example, use `censusDf.describe()`, or `censusDf.sort_values(by='med_hh_income').head()`. You might need to replace some values with `np.nan`."
   ]
  },
  {
   "cell_type": "code",
   "execution_count": 11,
   "id": "6b16ca9b",
   "metadata": {
    "deletable": false,
    "nbgrader": {
     "cell_type": "code",
     "checksum": "86c8eb5795a4e76825e7e31ff50ee84b",
     "grade": false,
     "grade_id": "cell-087a1df3d3eb51b0",
     "locked": false,
     "schema_version": 3,
     "solution": true,
     "task": false
    }
   },
   "outputs": [],
   "source": [
    "import requests\n",
    "import json\n",
    "import numpy as np"
   ]
  },
  {
   "cell_type": "code",
   "execution_count": 12,
   "id": "7ef83b6d-b7ae-424e-aafd-d678a8ddbb42",
   "metadata": {},
   "outputs": [],
   "source": [
    "key = 'e024759e68ac64e5f031a35c74016bdf988adce6'\n",
    "url = 'https://api.census.gov/data/2019/acs/acs5?get=NAME,B25003_001E,B25003_002E,B25003_003E,B19013_001E&for=tract:*&in=state:06%20county:037&key={}'.format(key)\n",
    "r = requests.get(url)\n",
    "censusdata = r.json()"
   ]
  },
  {
   "cell_type": "code",
   "execution_count": 13,
   "id": "34eb083e-f2e9-4c91-bb5c-271400489cd2",
   "metadata": {},
   "outputs": [],
   "source": [
    "censusDf = pd.DataFrame(censusdata[1:], columns=censusdata[0])"
   ]
  },
  {
   "cell_type": "code",
   "execution_count": 14,
   "id": "576524ba-8591-4563-8a0d-3ce9827e04ae",
   "metadata": {},
   "outputs": [],
   "source": [
    "censusDf['pct_renter'] = censusDf['B25003_003E'].astype(int)/censusDf['B25003_001E'].astype(int)*100\n",
    "censusDf.rename(columns = {'B19013_001E':'median_hh_income'}, inplace=True)\n",
    "censusDf['median_hh_income'] = censusDf.median_hh_income.astype(int)"
   ]
  },
  {
   "cell_type": "code",
   "execution_count": 15,
   "id": "44a8a5b5-cf29-4bb2-825f-dc3ff91fed85",
   "metadata": {},
   "outputs": [],
   "source": [
    "censusDf.loc[censusDf['median_hh_income'] < 0, 'median_hh_income'] = np.nan"
   ]
  },
  {
   "cell_type": "code",
   "execution_count": 16,
   "id": "58482987",
   "metadata": {
    "deletable": false,
    "editable": false,
    "nbgrader": {
     "cell_type": "code",
     "checksum": "585870a71cdc9a29633a4e781b14e7d5",
     "grade": true,
     "grade_id": "cell-2d674b4f0e57e6dc",
     "locked": true,
     "points": 1,
     "schema_version": 3,
     "solution": false,
     "task": false
    }
   },
   "outputs": [
    {
     "name": "stdout",
     "output_type": "stream",
     "text": [
      "2346\n",
      "53.273758713248945\n",
      "73242.84415584416\n"
     ]
    }
   ],
   "source": [
    "print (len(censusDf))\n",
    "print (censusDf.pct_renter.mean())\n",
    "print(censusDf.median_hh_income.mean())\n",
    "\n",
    "# Autograding tests - do not edit\n",
    "assert len(censusDf) == 2346\n",
    "assert censusDf.pct_renter.mean().round() == 53\n",
    "assert censusDf.median_hh_income.mean().round()==73243"
   ]
  },
  {
   "cell_type": "markdown",
   "id": "e8146828",
   "metadata": {
    "deletable": false,
    "editable": false,
    "nbgrader": {
     "cell_type": "markdown",
     "checksum": "f9a4dde04d43ed5387005fbf72c319d7",
     "grade": false,
     "grade_id": "cell-10df2e93cc4cd1f2",
     "locked": true,
     "schema_version": 3,
     "solution": false,
     "task": false
    }
   },
   "source": [
    "Create a new dataframe, `joinedDf`, with both your voting and census data, through a left join to the voting data. \n",
    "\n",
    "*Hint*: It will be easiest to join on the `tract` column (which is your index in `tractVotes`). Since everything is in LA County, you don't need to worry about the `state` or `county` fields.\n",
    "\n",
    "*Hint*: You'll need to convert the `tract` column in `censusDf` to an integer first."
   ]
  },
  {
   "cell_type": "code",
   "execution_count": 17,
   "id": "cd78c1fd",
   "metadata": {
    "deletable": false,
    "nbgrader": {
     "cell_type": "code",
     "checksum": "27a7efd4dc74b0334d4880c59f003b8b",
     "grade": false,
     "grade_id": "cell-7826b19a96730b22",
     "locked": false,
     "schema_version": 3,
     "solution": true,
     "task": false
    }
   },
   "outputs": [],
   "source": [
    "joinedDf = 9999"
   ]
  },
  {
   "cell_type": "code",
   "execution_count": 18,
   "id": "69c5832d-7b4d-4102-848f-d7470345ce76",
   "metadata": {},
   "outputs": [
    {
     "data": {
      "text/html": [
       "<div>\n",
       "<style scoped>\n",
       "    .dataframe tbody tr th:only-of-type {\n",
       "        vertical-align: middle;\n",
       "    }\n",
       "\n",
       "    .dataframe tbody tr th {\n",
       "        vertical-align: top;\n",
       "    }\n",
       "\n",
       "    .dataframe thead th {\n",
       "        text-align: right;\n",
       "    }\n",
       "</style>\n",
       "<table border=\"1\" class=\"dataframe\">\n",
       "  <thead>\n",
       "    <tr style=\"text-align: right;\">\n",
       "      <th></th>\n",
       "      <th>PR_21_N</th>\n",
       "      <th>PR_21_Y</th>\n",
       "      <th>PRSDEM01</th>\n",
       "      <th>PRSREP01</th>\n",
       "    </tr>\n",
       "    <tr>\n",
       "      <th>tract</th>\n",
       "      <th></th>\n",
       "      <th></th>\n",
       "      <th></th>\n",
       "      <th></th>\n",
       "    </tr>\n",
       "  </thead>\n",
       "  <tbody>\n",
       "    <tr>\n",
       "      <th>101110</th>\n",
       "      <td>1024.227956</td>\n",
       "      <td>857.734445</td>\n",
       "      <td>1090.712262</td>\n",
       "      <td>895.321045</td>\n",
       "    </tr>\n",
       "    <tr>\n",
       "      <th>101122</th>\n",
       "      <td>1138.460030</td>\n",
       "      <td>747.218978</td>\n",
       "      <td>1057.143636</td>\n",
       "      <td>896.821118</td>\n",
       "    </tr>\n",
       "    <tr>\n",
       "      <th>101210</th>\n",
       "      <td>714.308221</td>\n",
       "      <td>849.445489</td>\n",
       "      <td>949.817716</td>\n",
       "      <td>723.604530</td>\n",
       "    </tr>\n",
       "    <tr>\n",
       "      <th>101220</th>\n",
       "      <td>761.014272</td>\n",
       "      <td>528.747773</td>\n",
       "      <td>747.489059</td>\n",
       "      <td>604.907175</td>\n",
       "    </tr>\n",
       "    <tr>\n",
       "      <th>101300</th>\n",
       "      <td>1218.104598</td>\n",
       "      <td>796.031104</td>\n",
       "      <td>1159.946654</td>\n",
       "      <td>948.800765</td>\n",
       "    </tr>\n",
       "    <tr>\n",
       "      <th>...</th>\n",
       "      <td>...</td>\n",
       "      <td>...</td>\n",
       "      <td>...</td>\n",
       "      <td>...</td>\n",
       "    </tr>\n",
       "    <tr>\n",
       "      <th>980025</th>\n",
       "      <td>1.191385</td>\n",
       "      <td>1.331692</td>\n",
       "      <td>2.144000</td>\n",
       "      <td>0.435692</td>\n",
       "    </tr>\n",
       "    <tr>\n",
       "      <th>980026</th>\n",
       "      <td>3.443450</td>\n",
       "      <td>2.245728</td>\n",
       "      <td>3.248169</td>\n",
       "      <td>2.688365</td>\n",
       "    </tr>\n",
       "    <tr>\n",
       "      <th>980028</th>\n",
       "      <td>13.480156</td>\n",
       "      <td>15.983655</td>\n",
       "      <td>23.790061</td>\n",
       "      <td>6.556109</td>\n",
       "    </tr>\n",
       "    <tr>\n",
       "      <th>980031</th>\n",
       "      <td>78.135139</td>\n",
       "      <td>70.820000</td>\n",
       "      <td>103.919407</td>\n",
       "      <td>48.163914</td>\n",
       "    </tr>\n",
       "    <tr>\n",
       "      <th>980033</th>\n",
       "      <td>22.468645</td>\n",
       "      <td>30.707267</td>\n",
       "      <td>44.026245</td>\n",
       "      <td>9.405411</td>\n",
       "    </tr>\n",
       "  </tbody>\n",
       "</table>\n",
       "<p>2338 rows × 4 columns</p>\n",
       "</div>"
      ],
      "text/plain": [
       "            PR_21_N     PR_21_Y     PRSDEM01    PRSREP01\n",
       "tract                                                   \n",
       "101110  1024.227956  857.734445  1090.712262  895.321045\n",
       "101122  1138.460030  747.218978  1057.143636  896.821118\n",
       "101210   714.308221  849.445489   949.817716  723.604530\n",
       "101220   761.014272  528.747773   747.489059  604.907175\n",
       "101300  1218.104598  796.031104  1159.946654  948.800765\n",
       "...             ...         ...          ...         ...\n",
       "980025     1.191385    1.331692     2.144000    0.435692\n",
       "980026     3.443450    2.245728     3.248169    2.688365\n",
       "980028    13.480156   15.983655    23.790061    6.556109\n",
       "980031    78.135139   70.820000   103.919407   48.163914\n",
       "980033    22.468645   30.707267    44.026245    9.405411\n",
       "\n",
       "[2338 rows x 4 columns]"
      ]
     },
     "execution_count": 18,
     "metadata": {},
     "output_type": "execute_result"
    }
   ],
   "source": [
    "tractVotes"
   ]
  },
  {
   "cell_type": "code",
   "execution_count": 19,
   "id": "3df7e998-81d1-4645-a0bb-fa5c118437b0",
   "metadata": {},
   "outputs": [],
   "source": [
    "censusDf['tract'] = censusDf['tract'].astype(int) \n",
    "censusDf.set_index('tract', inplace=True)"
   ]
  },
  {
   "cell_type": "code",
   "execution_count": 20,
   "id": "8c12c770-c49f-45c0-ad4b-6f8a2259dd5f",
   "metadata": {},
   "outputs": [],
   "source": [
    "joinedDf = tractVotes.join(censusDf, how = 'left')"
   ]
  },
  {
   "cell_type": "code",
   "execution_count": 21,
   "id": "49062cce",
   "metadata": {
    "deletable": false,
    "editable": false,
    "nbgrader": {
     "cell_type": "code",
     "checksum": "4bf516602b49234ddd1cc63807b8acf0",
     "grade": true,
     "grade_id": "cell-1cd1c76f5b8264c9",
     "locked": true,
     "points": 1,
     "schema_version": 3,
     "solution": false,
     "task": false
    }
   },
   "outputs": [
    {
     "name": "stdout",
     "output_type": "stream",
     "text": [
      "2318\n",
      "53.28817335153003\n"
     ]
    }
   ],
   "source": [
    "print(joinedDf.pct_renter.count())\n",
    "print(joinedDf.pct_renter.mean())\n",
    "\n",
    "# Autograding tests - do not edit\n",
    "assert joinedDf.pct_renter.count() == 2318\n",
    "assert joinedDf.pct_renter.mean().round() == 53"
   ]
  },
  {
   "cell_type": "markdown",
   "id": "1ccab3db",
   "metadata": {
    "deletable": false,
    "editable": false,
    "nbgrader": {
     "cell_type": "markdown",
     "checksum": "abefd65bcabb67fb3b70520ad7fb4292",
     "grade": false,
     "grade_id": "cell-0473e50f37e6f3ba",
     "locked": true,
     "schema_version": 3,
     "solution": false,
     "task": false
    }
   },
   "source": [
    "Let's start with a simple random forests model with the following *x* variables:\n",
    "\n",
    "* Median HH income\n",
    "* Percent of HHs that are renters\n",
    "* Presidential vote (2-party share of Democrat voters, i.e. the percent voting for Biden vs Trump, with other candidates ignored)\n",
    "\n",
    "And the following *y* variable\n",
    "* Whether Prop 21 won (received a majority) in that census tract. This should be `True` if the Yeses got more votes than the Nos.\n",
    "\n",
    "(Yes, vote share in each tract would be better to predict rather than a binary variable - hold off on that for the challenge problem.)\n",
    "\n",
    "Create the relevant columns, `pct_biden` and `PR_21_won`, in your `joinedDf` dataframe. \n",
    "\n",
    "Then split your dataframe into a training sample (75%) and a test sample (25%). *Hint*: Drop the `NaNs` first."
   ]
  },
  {
   "cell_type": "code",
   "execution_count": 22,
   "id": "6fef5610-17fb-45d7-94a0-1f441a62154e",
   "metadata": {},
   "outputs": [],
   "source": [
    "joinedDf['pct_biden'] = joinedDf['PRSDEM01']/(joinedDf['PRSDEM01']+joinedDf['PRSREP01'])*100\n",
    "joinedDf['pct_21_won'] = joinedDf['PR_21_Y']/(joinedDf['PR_21_Y']+joinedDf['PR_21_N'])*100\n",
    "joinedDf['PR_21_won'] = joinedDf['pct_21_won'] > 50"
   ]
  },
  {
   "cell_type": "code",
   "execution_count": 24,
   "id": "00189327",
   "metadata": {
    "deletable": false,
    "nbgrader": {
     "cell_type": "code",
     "checksum": "65fd2c2e8897c1b97853ab1fbbde6224",
     "grade": false,
     "grade_id": "cell-f292cd5bba490d15",
     "locked": false,
     "schema_version": 3,
     "solution": true,
     "task": false
    }
   },
   "outputs": [
    {
     "data": {
      "text/html": [
       "<style>#sk-container-id-1 {\n",
       "  /* Definition of color scheme common for light and dark mode */\n",
       "  --sklearn-color-text: #000;\n",
       "  --sklearn-color-text-muted: #666;\n",
       "  --sklearn-color-line: gray;\n",
       "  /* Definition of color scheme for unfitted estimators */\n",
       "  --sklearn-color-unfitted-level-0: #fff5e6;\n",
       "  --sklearn-color-unfitted-level-1: #f6e4d2;\n",
       "  --sklearn-color-unfitted-level-2: #ffe0b3;\n",
       "  --sklearn-color-unfitted-level-3: chocolate;\n",
       "  /* Definition of color scheme for fitted estimators */\n",
       "  --sklearn-color-fitted-level-0: #f0f8ff;\n",
       "  --sklearn-color-fitted-level-1: #d4ebff;\n",
       "  --sklearn-color-fitted-level-2: #b3dbfd;\n",
       "  --sklearn-color-fitted-level-3: cornflowerblue;\n",
       "\n",
       "  /* Specific color for light theme */\n",
       "  --sklearn-color-text-on-default-background: var(--sg-text-color, var(--theme-code-foreground, var(--jp-content-font-color1, black)));\n",
       "  --sklearn-color-background: var(--sg-background-color, var(--theme-background, var(--jp-layout-color0, white)));\n",
       "  --sklearn-color-border-box: var(--sg-text-color, var(--theme-code-foreground, var(--jp-content-font-color1, black)));\n",
       "  --sklearn-color-icon: #696969;\n",
       "\n",
       "  @media (prefers-color-scheme: dark) {\n",
       "    /* Redefinition of color scheme for dark theme */\n",
       "    --sklearn-color-text-on-default-background: var(--sg-text-color, var(--theme-code-foreground, var(--jp-content-font-color1, white)));\n",
       "    --sklearn-color-background: var(--sg-background-color, var(--theme-background, var(--jp-layout-color0, #111)));\n",
       "    --sklearn-color-border-box: var(--sg-text-color, var(--theme-code-foreground, var(--jp-content-font-color1, white)));\n",
       "    --sklearn-color-icon: #878787;\n",
       "  }\n",
       "}\n",
       "\n",
       "#sk-container-id-1 {\n",
       "  color: var(--sklearn-color-text);\n",
       "}\n",
       "\n",
       "#sk-container-id-1 pre {\n",
       "  padding: 0;\n",
       "}\n",
       "\n",
       "#sk-container-id-1 input.sk-hidden--visually {\n",
       "  border: 0;\n",
       "  clip: rect(1px 1px 1px 1px);\n",
       "  clip: rect(1px, 1px, 1px, 1px);\n",
       "  height: 1px;\n",
       "  margin: -1px;\n",
       "  overflow: hidden;\n",
       "  padding: 0;\n",
       "  position: absolute;\n",
       "  width: 1px;\n",
       "}\n",
       "\n",
       "#sk-container-id-1 div.sk-dashed-wrapped {\n",
       "  border: 1px dashed var(--sklearn-color-line);\n",
       "  margin: 0 0.4em 0.5em 0.4em;\n",
       "  box-sizing: border-box;\n",
       "  padding-bottom: 0.4em;\n",
       "  background-color: var(--sklearn-color-background);\n",
       "}\n",
       "\n",
       "#sk-container-id-1 div.sk-container {\n",
       "  /* jupyter's `normalize.less` sets `[hidden] { display: none; }`\n",
       "     but bootstrap.min.css set `[hidden] { display: none !important; }`\n",
       "     so we also need the `!important` here to be able to override the\n",
       "     default hidden behavior on the sphinx rendered scikit-learn.org.\n",
       "     See: https://github.com/scikit-learn/scikit-learn/issues/21755 */\n",
       "  display: inline-block !important;\n",
       "  position: relative;\n",
       "}\n",
       "\n",
       "#sk-container-id-1 div.sk-text-repr-fallback {\n",
       "  display: none;\n",
       "}\n",
       "\n",
       "div.sk-parallel-item,\n",
       "div.sk-serial,\n",
       "div.sk-item {\n",
       "  /* draw centered vertical line to link estimators */\n",
       "  background-image: linear-gradient(var(--sklearn-color-text-on-default-background), var(--sklearn-color-text-on-default-background));\n",
       "  background-size: 2px 100%;\n",
       "  background-repeat: no-repeat;\n",
       "  background-position: center center;\n",
       "}\n",
       "\n",
       "/* Parallel-specific style estimator block */\n",
       "\n",
       "#sk-container-id-1 div.sk-parallel-item::after {\n",
       "  content: \"\";\n",
       "  width: 100%;\n",
       "  border-bottom: 2px solid var(--sklearn-color-text-on-default-background);\n",
       "  flex-grow: 1;\n",
       "}\n",
       "\n",
       "#sk-container-id-1 div.sk-parallel {\n",
       "  display: flex;\n",
       "  align-items: stretch;\n",
       "  justify-content: center;\n",
       "  background-color: var(--sklearn-color-background);\n",
       "  position: relative;\n",
       "}\n",
       "\n",
       "#sk-container-id-1 div.sk-parallel-item {\n",
       "  display: flex;\n",
       "  flex-direction: column;\n",
       "}\n",
       "\n",
       "#sk-container-id-1 div.sk-parallel-item:first-child::after {\n",
       "  align-self: flex-end;\n",
       "  width: 50%;\n",
       "}\n",
       "\n",
       "#sk-container-id-1 div.sk-parallel-item:last-child::after {\n",
       "  align-self: flex-start;\n",
       "  width: 50%;\n",
       "}\n",
       "\n",
       "#sk-container-id-1 div.sk-parallel-item:only-child::after {\n",
       "  width: 0;\n",
       "}\n",
       "\n",
       "/* Serial-specific style estimator block */\n",
       "\n",
       "#sk-container-id-1 div.sk-serial {\n",
       "  display: flex;\n",
       "  flex-direction: column;\n",
       "  align-items: center;\n",
       "  background-color: var(--sklearn-color-background);\n",
       "  padding-right: 1em;\n",
       "  padding-left: 1em;\n",
       "}\n",
       "\n",
       "\n",
       "/* Toggleable style: style used for estimator/Pipeline/ColumnTransformer box that is\n",
       "clickable and can be expanded/collapsed.\n",
       "- Pipeline and ColumnTransformer use this feature and define the default style\n",
       "- Estimators will overwrite some part of the style using the `sk-estimator` class\n",
       "*/\n",
       "\n",
       "/* Pipeline and ColumnTransformer style (default) */\n",
       "\n",
       "#sk-container-id-1 div.sk-toggleable {\n",
       "  /* Default theme specific background. It is overwritten whether we have a\n",
       "  specific estimator or a Pipeline/ColumnTransformer */\n",
       "  background-color: var(--sklearn-color-background);\n",
       "}\n",
       "\n",
       "/* Toggleable label */\n",
       "#sk-container-id-1 label.sk-toggleable__label {\n",
       "  cursor: pointer;\n",
       "  display: flex;\n",
       "  width: 100%;\n",
       "  margin-bottom: 0;\n",
       "  padding: 0.5em;\n",
       "  box-sizing: border-box;\n",
       "  text-align: center;\n",
       "  align-items: start;\n",
       "  justify-content: space-between;\n",
       "  gap: 0.5em;\n",
       "}\n",
       "\n",
       "#sk-container-id-1 label.sk-toggleable__label .caption {\n",
       "  font-size: 0.6rem;\n",
       "  font-weight: lighter;\n",
       "  color: var(--sklearn-color-text-muted);\n",
       "}\n",
       "\n",
       "#sk-container-id-1 label.sk-toggleable__label-arrow:before {\n",
       "  /* Arrow on the left of the label */\n",
       "  content: \"▸\";\n",
       "  float: left;\n",
       "  margin-right: 0.25em;\n",
       "  color: var(--sklearn-color-icon);\n",
       "}\n",
       "\n",
       "#sk-container-id-1 label.sk-toggleable__label-arrow:hover:before {\n",
       "  color: var(--sklearn-color-text);\n",
       "}\n",
       "\n",
       "/* Toggleable content - dropdown */\n",
       "\n",
       "#sk-container-id-1 div.sk-toggleable__content {\n",
       "  max-height: 0;\n",
       "  max-width: 0;\n",
       "  overflow: hidden;\n",
       "  text-align: left;\n",
       "  /* unfitted */\n",
       "  background-color: var(--sklearn-color-unfitted-level-0);\n",
       "}\n",
       "\n",
       "#sk-container-id-1 div.sk-toggleable__content.fitted {\n",
       "  /* fitted */\n",
       "  background-color: var(--sklearn-color-fitted-level-0);\n",
       "}\n",
       "\n",
       "#sk-container-id-1 div.sk-toggleable__content pre {\n",
       "  margin: 0.2em;\n",
       "  border-radius: 0.25em;\n",
       "  color: var(--sklearn-color-text);\n",
       "  /* unfitted */\n",
       "  background-color: var(--sklearn-color-unfitted-level-0);\n",
       "}\n",
       "\n",
       "#sk-container-id-1 div.sk-toggleable__content.fitted pre {\n",
       "  /* unfitted */\n",
       "  background-color: var(--sklearn-color-fitted-level-0);\n",
       "}\n",
       "\n",
       "#sk-container-id-1 input.sk-toggleable__control:checked~div.sk-toggleable__content {\n",
       "  /* Expand drop-down */\n",
       "  max-height: 200px;\n",
       "  max-width: 100%;\n",
       "  overflow: auto;\n",
       "}\n",
       "\n",
       "#sk-container-id-1 input.sk-toggleable__control:checked~label.sk-toggleable__label-arrow:before {\n",
       "  content: \"▾\";\n",
       "}\n",
       "\n",
       "/* Pipeline/ColumnTransformer-specific style */\n",
       "\n",
       "#sk-container-id-1 div.sk-label input.sk-toggleable__control:checked~label.sk-toggleable__label {\n",
       "  color: var(--sklearn-color-text);\n",
       "  background-color: var(--sklearn-color-unfitted-level-2);\n",
       "}\n",
       "\n",
       "#sk-container-id-1 div.sk-label.fitted input.sk-toggleable__control:checked~label.sk-toggleable__label {\n",
       "  background-color: var(--sklearn-color-fitted-level-2);\n",
       "}\n",
       "\n",
       "/* Estimator-specific style */\n",
       "\n",
       "/* Colorize estimator box */\n",
       "#sk-container-id-1 div.sk-estimator input.sk-toggleable__control:checked~label.sk-toggleable__label {\n",
       "  /* unfitted */\n",
       "  background-color: var(--sklearn-color-unfitted-level-2);\n",
       "}\n",
       "\n",
       "#sk-container-id-1 div.sk-estimator.fitted input.sk-toggleable__control:checked~label.sk-toggleable__label {\n",
       "  /* fitted */\n",
       "  background-color: var(--sklearn-color-fitted-level-2);\n",
       "}\n",
       "\n",
       "#sk-container-id-1 div.sk-label label.sk-toggleable__label,\n",
       "#sk-container-id-1 div.sk-label label {\n",
       "  /* The background is the default theme color */\n",
       "  color: var(--sklearn-color-text-on-default-background);\n",
       "}\n",
       "\n",
       "/* On hover, darken the color of the background */\n",
       "#sk-container-id-1 div.sk-label:hover label.sk-toggleable__label {\n",
       "  color: var(--sklearn-color-text);\n",
       "  background-color: var(--sklearn-color-unfitted-level-2);\n",
       "}\n",
       "\n",
       "/* Label box, darken color on hover, fitted */\n",
       "#sk-container-id-1 div.sk-label.fitted:hover label.sk-toggleable__label.fitted {\n",
       "  color: var(--sklearn-color-text);\n",
       "  background-color: var(--sklearn-color-fitted-level-2);\n",
       "}\n",
       "\n",
       "/* Estimator label */\n",
       "\n",
       "#sk-container-id-1 div.sk-label label {\n",
       "  font-family: monospace;\n",
       "  font-weight: bold;\n",
       "  display: inline-block;\n",
       "  line-height: 1.2em;\n",
       "}\n",
       "\n",
       "#sk-container-id-1 div.sk-label-container {\n",
       "  text-align: center;\n",
       "}\n",
       "\n",
       "/* Estimator-specific */\n",
       "#sk-container-id-1 div.sk-estimator {\n",
       "  font-family: monospace;\n",
       "  border: 1px dotted var(--sklearn-color-border-box);\n",
       "  border-radius: 0.25em;\n",
       "  box-sizing: border-box;\n",
       "  margin-bottom: 0.5em;\n",
       "  /* unfitted */\n",
       "  background-color: var(--sklearn-color-unfitted-level-0);\n",
       "}\n",
       "\n",
       "#sk-container-id-1 div.sk-estimator.fitted {\n",
       "  /* fitted */\n",
       "  background-color: var(--sklearn-color-fitted-level-0);\n",
       "}\n",
       "\n",
       "/* on hover */\n",
       "#sk-container-id-1 div.sk-estimator:hover {\n",
       "  /* unfitted */\n",
       "  background-color: var(--sklearn-color-unfitted-level-2);\n",
       "}\n",
       "\n",
       "#sk-container-id-1 div.sk-estimator.fitted:hover {\n",
       "  /* fitted */\n",
       "  background-color: var(--sklearn-color-fitted-level-2);\n",
       "}\n",
       "\n",
       "/* Specification for estimator info (e.g. \"i\" and \"?\") */\n",
       "\n",
       "/* Common style for \"i\" and \"?\" */\n",
       "\n",
       ".sk-estimator-doc-link,\n",
       "a:link.sk-estimator-doc-link,\n",
       "a:visited.sk-estimator-doc-link {\n",
       "  float: right;\n",
       "  font-size: smaller;\n",
       "  line-height: 1em;\n",
       "  font-family: monospace;\n",
       "  background-color: var(--sklearn-color-background);\n",
       "  border-radius: 1em;\n",
       "  height: 1em;\n",
       "  width: 1em;\n",
       "  text-decoration: none !important;\n",
       "  margin-left: 0.5em;\n",
       "  text-align: center;\n",
       "  /* unfitted */\n",
       "  border: var(--sklearn-color-unfitted-level-1) 1pt solid;\n",
       "  color: var(--sklearn-color-unfitted-level-1);\n",
       "}\n",
       "\n",
       ".sk-estimator-doc-link.fitted,\n",
       "a:link.sk-estimator-doc-link.fitted,\n",
       "a:visited.sk-estimator-doc-link.fitted {\n",
       "  /* fitted */\n",
       "  border: var(--sklearn-color-fitted-level-1) 1pt solid;\n",
       "  color: var(--sklearn-color-fitted-level-1);\n",
       "}\n",
       "\n",
       "/* On hover */\n",
       "div.sk-estimator:hover .sk-estimator-doc-link:hover,\n",
       ".sk-estimator-doc-link:hover,\n",
       "div.sk-label-container:hover .sk-estimator-doc-link:hover,\n",
       ".sk-estimator-doc-link:hover {\n",
       "  /* unfitted */\n",
       "  background-color: var(--sklearn-color-unfitted-level-3);\n",
       "  color: var(--sklearn-color-background);\n",
       "  text-decoration: none;\n",
       "}\n",
       "\n",
       "div.sk-estimator.fitted:hover .sk-estimator-doc-link.fitted:hover,\n",
       ".sk-estimator-doc-link.fitted:hover,\n",
       "div.sk-label-container:hover .sk-estimator-doc-link.fitted:hover,\n",
       ".sk-estimator-doc-link.fitted:hover {\n",
       "  /* fitted */\n",
       "  background-color: var(--sklearn-color-fitted-level-3);\n",
       "  color: var(--sklearn-color-background);\n",
       "  text-decoration: none;\n",
       "}\n",
       "\n",
       "/* Span, style for the box shown on hovering the info icon */\n",
       ".sk-estimator-doc-link span {\n",
       "  display: none;\n",
       "  z-index: 9999;\n",
       "  position: relative;\n",
       "  font-weight: normal;\n",
       "  right: .2ex;\n",
       "  padding: .5ex;\n",
       "  margin: .5ex;\n",
       "  width: min-content;\n",
       "  min-width: 20ex;\n",
       "  max-width: 50ex;\n",
       "  color: var(--sklearn-color-text);\n",
       "  box-shadow: 2pt 2pt 4pt #999;\n",
       "  /* unfitted */\n",
       "  background: var(--sklearn-color-unfitted-level-0);\n",
       "  border: .5pt solid var(--sklearn-color-unfitted-level-3);\n",
       "}\n",
       "\n",
       ".sk-estimator-doc-link.fitted span {\n",
       "  /* fitted */\n",
       "  background: var(--sklearn-color-fitted-level-0);\n",
       "  border: var(--sklearn-color-fitted-level-3);\n",
       "}\n",
       "\n",
       ".sk-estimator-doc-link:hover span {\n",
       "  display: block;\n",
       "}\n",
       "\n",
       "/* \"?\"-specific style due to the `<a>` HTML tag */\n",
       "\n",
       "#sk-container-id-1 a.estimator_doc_link {\n",
       "  float: right;\n",
       "  font-size: 1rem;\n",
       "  line-height: 1em;\n",
       "  font-family: monospace;\n",
       "  background-color: var(--sklearn-color-background);\n",
       "  border-radius: 1rem;\n",
       "  height: 1rem;\n",
       "  width: 1rem;\n",
       "  text-decoration: none;\n",
       "  /* unfitted */\n",
       "  color: var(--sklearn-color-unfitted-level-1);\n",
       "  border: var(--sklearn-color-unfitted-level-1) 1pt solid;\n",
       "}\n",
       "\n",
       "#sk-container-id-1 a.estimator_doc_link.fitted {\n",
       "  /* fitted */\n",
       "  border: var(--sklearn-color-fitted-level-1) 1pt solid;\n",
       "  color: var(--sklearn-color-fitted-level-1);\n",
       "}\n",
       "\n",
       "/* On hover */\n",
       "#sk-container-id-1 a.estimator_doc_link:hover {\n",
       "  /* unfitted */\n",
       "  background-color: var(--sklearn-color-unfitted-level-3);\n",
       "  color: var(--sklearn-color-background);\n",
       "  text-decoration: none;\n",
       "}\n",
       "\n",
       "#sk-container-id-1 a.estimator_doc_link.fitted:hover {\n",
       "  /* fitted */\n",
       "  background-color: var(--sklearn-color-fitted-level-3);\n",
       "}\n",
       "</style><div id=\"sk-container-id-1\" class=\"sk-top-container\"><div class=\"sk-text-repr-fallback\"><pre>RandomForestClassifier(n_estimators=50, random_state=1)</pre><b>In a Jupyter environment, please rerun this cell to show the HTML representation or trust the notebook. <br />On GitHub, the HTML representation is unable to render, please try loading this page with nbviewer.org.</b></div><div class=\"sk-container\" hidden><div class=\"sk-item\"><div class=\"sk-estimator fitted sk-toggleable\"><input class=\"sk-toggleable__control sk-hidden--visually\" id=\"sk-estimator-id-1\" type=\"checkbox\" checked><label for=\"sk-estimator-id-1\" class=\"sk-toggleable__label fitted sk-toggleable__label-arrow\"><div><div>RandomForestClassifier</div></div><div><a class=\"sk-estimator-doc-link fitted\" rel=\"noreferrer\" target=\"_blank\" href=\"https://scikit-learn.org/1.6/modules/generated/sklearn.ensemble.RandomForestClassifier.html\">?<span>Documentation for RandomForestClassifier</span></a><span class=\"sk-estimator-doc-link fitted\">i<span>Fitted</span></span></div></label><div class=\"sk-toggleable__content fitted\"><pre>RandomForestClassifier(n_estimators=50, random_state=1)</pre></div> </div></div></div></div>"
      ],
      "text/plain": [
       "RandomForestClassifier(n_estimators=50, random_state=1)"
      ]
     },
     "execution_count": 24,
     "metadata": {},
     "output_type": "execute_result"
    }
   ],
   "source": [
    "# your code here\n",
    "from sklearn.model_selection import train_test_split\n",
    "from sklearn.ensemble import RandomForestClassifier\n",
    "\n",
    "xvars = ['median_hh_income', 'pct_renter', 'pct_biden']\n",
    "yvar = 'PR_21_won'\n",
    "\n",
    "df_to_fit = joinedDf[xvars+[yvar]].dropna()\n",
    "\n",
    "X_train, X_test, y_train, y_test = train_test_split(\n",
    "    df_to_fit[xvars], df_to_fit[yvar], test_size = 0.25, random_state = 1)\n",
    "\n",
    "rf = RandomForestClassifier(n_estimators = 50, random_state = 1)\n",
    "rf.fit(X_train, y_train)"
   ]
  },
  {
   "cell_type": "code",
   "execution_count": 26,
   "id": "37924f00",
   "metadata": {
    "deletable": false,
    "editable": false,
    "nbgrader": {
     "cell_type": "code",
     "checksum": "b9e3f762c36076b242a09e68f1422eb9",
     "grade": true,
     "grade_id": "cell-51a28332d08e392f",
     "locked": true,
     "points": 1,
     "schema_version": 3,
     "solution": false,
     "task": false
    }
   },
   "outputs": [
    {
     "name": "stdout",
     "output_type": "stream",
     "text": [
      "1731\n",
      "578\n",
      "73.99448083312072\n",
      "0.5979202772963604\n"
     ]
    }
   ],
   "source": [
    "print(len(X_train))\n",
    "print(len(X_test))\n",
    "print(X_train.pct_biden.mean())\n",
    "print(y_train.mean())\n",
    "\n",
    "# Autograding tests - do not edit\n",
    "assert len(X_train) == 1731\n",
    "assert len(X_train.columns) == 3\n",
    "assert len(X_test) == 578\n",
    "assert len(X_train) == len(y_train)\n",
    "assert len(X_test) == len(y_test)\n",
    "assert X_train.pct_biden.mean().round() == 74\n",
    "assert y_train.mean().round(1) == 0.6\n"
   ]
  },
  {
   "cell_type": "markdown",
   "id": "e2a095a7",
   "metadata": {
    "deletable": false,
    "editable": false,
    "nbgrader": {
     "cell_type": "markdown",
     "checksum": "47be54094151a23829637bb621579c23",
     "grade": false,
     "grade_id": "cell-da525eb9a304953d",
     "locked": true,
     "schema_version": 3,
     "solution": false,
     "task": false
    }
   },
   "source": [
    "Estimate a random forests model, and assign the predicted *y* values from your *test* sample to `y_pred`."
   ]
  },
  {
   "cell_type": "code",
   "execution_count": 27,
   "id": "98afd7b7",
   "metadata": {
    "deletable": false,
    "nbgrader": {
     "cell_type": "code",
     "checksum": "20535f599ecfe005d16d51a36decb39d",
     "grade": false,
     "grade_id": "cell-18655f54613bacb6",
     "locked": false,
     "schema_version": 3,
     "solution": true,
     "task": false
    }
   },
   "outputs": [],
   "source": [
    "from sklearn.ensemble import RandomForestClassifier \n",
    "\n",
    "y_pred = rf.predict(X_test)"
   ]
  },
  {
   "cell_type": "code",
   "execution_count": 28,
   "id": "55afdd70-530e-4242-a8a7-b9f1189d106c",
   "metadata": {},
   "outputs": [
    {
     "name": "stdout",
     "output_type": "stream",
     "text": [
      "Predicted fraction True: 0.6298. Actual fraction True: 0.6142\n"
     ]
    }
   ],
   "source": [
    "print('Predicted fraction True: {:.4f}. Actual fraction True: {:.4f}'.format(\n",
    "    y_pred.mean(), y_test.mean()))"
   ]
  },
  {
   "cell_type": "code",
   "execution_count": 29,
   "id": "1ba581a2",
   "metadata": {
    "deletable": false,
    "editable": false,
    "nbgrader": {
     "cell_type": "code",
     "checksum": "d3c939c242a2e2c97ac1d6beed36510e",
     "grade": true,
     "grade_id": "cell-633c221bbc5dda5e",
     "locked": true,
     "points": 1,
     "schema_version": 3,
     "solution": false,
     "task": false
    }
   },
   "outputs": [
    {
     "name": "stdout",
     "output_type": "stream",
     "text": [
      "578\n",
      "0.629757785467128\n"
     ]
    }
   ],
   "source": [
    "print(len(y_pred))\n",
    "print(y_pred.mean())\n",
    "\n",
    "# Autograding tests - do not edit\n",
    "assert len(y_pred)==len(y_test)\n",
    "assert y_pred.mean().round(1) == 0.6"
   ]
  },
  {
   "cell_type": "markdown",
   "id": "0b4319c7",
   "metadata": {
    "deletable": false,
    "editable": false,
    "nbgrader": {
     "cell_type": "markdown",
     "checksum": "106147275ab4f5520232b7cb2f96afa5",
     "grade": false,
     "grade_id": "cell-907f10cfdc92c141",
     "locked": true,
     "schema_version": 3,
     "solution": false,
     "task": false
    }
   },
   "source": [
    "Let's look at some measures of fit. Plot the confusion matrix."
   ]
  },
  {
   "cell_type": "code",
   "execution_count": 30,
   "id": "da2c942a",
   "metadata": {
    "deletable": false,
    "nbgrader": {
     "cell_type": "code",
     "checksum": "a217f1332e891585b32e8647876c8e04",
     "grade": true,
     "grade_id": "cell-c73405d47229d9c2",
     "locked": false,
     "points": 1,
     "schema_version": 3,
     "solution": true,
     "task": false
    }
   },
   "outputs": [
    {
     "data": {
      "text/plain": [
       "<sklearn.metrics._plot.confusion_matrix.ConfusionMatrixDisplay at 0x167d64380>"
      ]
     },
     "execution_count": 30,
     "metadata": {},
     "output_type": "execute_result"
    },
    {
     "data": {
      "image/png": "[encoded data removed]",
      "text/plain": [
       "<Figure size 640x480 with 2 Axes>"
      ]
     },
     "metadata": {},
     "output_type": "display_data"
    }
   ],
   "source": [
    "# your code here\n",
    "from sklearn.metrics import classification_report, confusion_matrix, accuracy_score, ConfusionMatrixDisplay\n",
    "ConfusionMatrixDisplay.from_predictions(y_test, y_pred)"
   ]
  },
  {
   "cell_type": "markdown",
   "id": "a5b1fb72",
   "metadata": {
    "deletable": false,
    "editable": false,
    "nbgrader": {
     "cell_type": "markdown",
     "checksum": "15f7f3d9f89db03a090c94c5d9b8e8c2",
     "grade": false,
     "grade_id": "cell-f4a7868979483ed5",
     "locked": true,
     "schema_version": 3,
     "solution": false,
     "task": false
    }
   },
   "source": [
    "Finally, plot the importance of each of the 3 predictor variables, in the same way as we did in class."
   ]
  },
  {
   "cell_type": "code",
   "execution_count": 31,
   "id": "da8efe8f",
   "metadata": {
    "deletable": false,
    "nbgrader": {
     "cell_type": "code",
     "checksum": "81d38608175af20135e30ea93a693703",
     "grade": true,
     "grade_id": "cell-6db4a17c87ddf643",
     "locked": false,
     "points": 1,
     "schema_version": 3,
     "solution": true,
     "task": false
    }
   },
   "outputs": [
    {
     "data": {
      "text/plain": [
       "Text(0, 0.5, 'Mean decrease in impurity')"
      ]
     },
     "execution_count": 31,
     "metadata": {},
     "output_type": "execute_result"
    },
    {
     "data": {
      "image/png": "[encoded data removed]",
      "text/plain": [
       "<Figure size 400x500 with 1 Axes>"
      ]
     },
     "metadata": {},
     "output_type": "display_data"
    }
   ],
   "source": [
    "# your code here\n",
    "import numpy as np\n",
    "import matplotlib.pyplot as plt\n",
    "import seaborn as sns\n",
    "\n",
    "importances = rf.feature_importances_\n",
    "forest_importances = pd.Series(importances, index=X_train.columns)\n",
    "std = np.std([tree.feature_importances_ for tree in rf.estimators_], axis=0)\n",
    "\n",
    "forest_importances.sort_values(inplace=True, ascending=False)\n",
    "\n",
    "fig, ax = plt.subplots(figsize=(4,5))\n",
    "sns.barplot(x=forest_importances.values, y=forest_importances.index, ax=ax)\n",
    "ax.set_title(\"Feature importances using MDI\")\n",
    "ax.set_ylabel(\"Mean decrease in impurity\")"
   ]
  },
  {
   "cell_type": "markdown",
   "id": "e7b82113",
   "metadata": {
    "deletable": false,
    "editable": false,
    "nbgrader": {
     "cell_type": "markdown",
     "checksum": "f372fa06efc2d9978b8beca6859f3250",
     "grade": false,
     "grade_id": "cell-0a6b521f6268911b",
     "locked": true,
     "schema_version": 3,
     "solution": false,
     "task": false
    }
   },
   "source": [
    "Comment on your interpretation of the results and the confusion matrix. What do they tell you about:\n",
    "- your predictive accuracy\n",
    "- which variables are important\n",
    "- how you might refine the model"
   ]
  },
  {
   "cell_type": "markdown",
   "id": "17b6b202",
   "metadata": {
    "deletable": false,
    "nbgrader": {
     "cell_type": "markdown",
     "checksum": "927dfce73cceaf93bb709dbc7a116b10",
     "grade": true,
     "grade_id": "cell-e2b3e80aad8c47a2",
     "locked": false,
     "points": 3,
     "schema_version": 3,
     "solution": true,
     "task": false
    }
   },
   "source": [
    "YOUR ANSWER HERE\n",
    "\n",
    "Predicted fraction of winning is 0.63, and the actual fraction is 0.61. So, I judge this prediction's accuracy level to be good.\n",
    "The proportion of pro-Biden votes in the presidential election is the most important factor in predicting the proportion of tracts supporting Prop 21.\n",
    "I might be able to improve the model by increasing the number of variables included in the model, such as race, education, geometry, though I don't know if there's spatial correlation, I assume there are more liberals in urban areas and higher renters while suburban areas tend to have more conservatives with home owners. These variables must all be correlated, but they might help make the model more precise. Increasing the number of trees from 50 to, say, 100 would also improve the accuracy."
   ]
  },
  {
   "cell_type": "markdown",
   "id": "a61901bb",
   "metadata": {
    "deletable": false,
    "editable": false,
    "nbgrader": {
     "cell_type": "markdown",
     "checksum": "8c176d496ec3c329b1950b0336133986",
     "grade": false,
     "grade_id": "cell-ffd460ba8c5df1e3",
     "locked": true,
     "schema_version": 3,
     "solution": false,
     "task": false
    }
   },
   "source": [
    "# Challenge Problem\n",
    "Remember, you need to do at least two of these challenge problems this quarter.\n",
    "\n",
    "This challenge problem is open ended for you to take in a direction that you are most interested in. Here are some suggestions (do 1 or 2 of these):\n",
    "\n",
    "* Extend the random forests model to predict vote share on Prop 21, rather than a binary yes/no, and using additional variables. See suggestions below. \n",
    "* Use a neural network instead. How much does this improve the predictions? Use charts to compare the predictions to the random forests model.\n",
    "* Examine the geographic distribution of the predictions, through mapping the prediction errors. Where does your model perform best? Does this give you pointers as to how to improve your model?\n",
    "\n",
    "In all cases, write some brief interpretation in a markdown cell.\n",
    "\n",
    "*Predicting a continuous variable*\n",
    "\n",
    "Classification problems are typically binary or categorical - which category do you predict a given observation to fall into. In some cases, however, we might want to predict a continuous variable, such as the percentage of \"yes\" votes on Prop 21. For this we can use `RandomForestRegressor`, which works very similarly to `RandomForestClassifier`. You can follow exactly the same steps: create the `rf` object, fit the model, and predict using the test sample.\n",
    "\n",
    "How do you evaluate model performance? Since we have a continuous variable, we can't use the confusion matrix. But we can look at the absolute error (each predicted value minus the true value for each of our test precincts). I.e., `abs(y_pred-y_test)`. You can also do a scatter plot of the predicted values against the true values. The divergence from the 45 degree line is a good indication of how well the model fits."
   ]
  }
 ],
 "metadata": {
  "kernelspec": {
   "display_name": "Python 3 (ipykernel)",
   "language": "python",
   "name": "python3"
  },
  "language_info": {
   "codemirror_mode": {
    "name": "ipython",
    "version": 3
   },
   "file_extension": ".py",
   "mimetype": "text/x-python",
   "name": "python",
   "nbconvert_exporter": "python",
   "pygments_lexer": "ipython3",
   "version": "3.12.9"
  }
 },
 "nbformat": 4,
 "nbformat_minor": 5
}
